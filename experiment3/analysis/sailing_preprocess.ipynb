{
 "cells": [
  {
   "cell_type": "code",
   "execution_count": 4,
   "metadata": {},
   "outputs": [],
   "source": [
    "import pandas as pd\n",
    "import glob\n",
    "import json\n",
    "import ast\n",
    "\n",
    "data_path = \"../data/sailing/full_dataset/*.csv\"\n",
    "exact_ages = pd.read_csv(\"../data/sailing/exact_ages.csv\")\n",
    "csv_files = glob.glob(data_path)"
   ]
  },
  {
   "cell_type": "code",
   "execution_count": 10,
   "metadata": {},
   "outputs": [],
   "source": [
    "# Parse data from CSVs into joined dataframe\n",
    "data_df = []\n",
    "data_quality_df = pd.DataFrame(columns = [\"browser_interactions\",\"missed_trials\", \"avg_rt\",\"comp_retries\",\"categorical_age\", \"excluded\"])\n",
    "comprehension_df = []\n",
    "\n",
    "for f in csv_files:\n",
    "    df = pd.read_csv(f)\n",
    "    completed = 'survey-debrief' in df['trial_type'].unique()\n",
    "    if completed:\n",
    "        metadata = json.loads(df.iloc[1]['metadata'])\n",
    "        df['sub'] = metadata['subject_id'] \n",
    "        df['age'] = float(exact_ages[exact_ages['Subject ID'] == int(metadata['subject_id'])].iloc[0]['Age'])\n",
    "        # assign categorical age if age <=12 'kids, 13-18 'teens', 19-64 'adults', 65+ 'seniors'\n",
    "        df['categorical_age'] = pd.cut(df['age'], bins=[7,13,18,23], labels=['Children','Adolescents','Adults'])\n",
    "        \n",
    "        browser_interact = df['browser_interaction'].count()\n",
    "        comp_errors = df['num_errors'].sum()\n",
    "        timeouts = df['timeout'].sum()\n",
    "        \n",
    "        comprehension_df.append(df[df['trial_type'] == 'sailing-comprehension'][['sub','responses','num_errors']])\n",
    "       \n",
    "        df = df[(df.index > df[df['trial_type'] == 'sailing-instructions'].index[-1]) & (df['trial_type'] == 'sailing-trial')]\n",
    "        df['reward_probabilities'] = df.apply(lambda x: ast.literal_eval(x.reward_probabilities), axis=1)\n",
    "        df = df.drop(['trial_type','trial_index','time_elapsed','internal_node_id','value','metadata','success','failed_images','failed_audio','failed_video','browser_interaction','low_quality','stimulus','response','rt','responses','num_errors','view_history'], axis=1)\n",
    "        full_trials = df.iloc[2::2].reset_index()\n",
    "        boat_trials = df.iloc[1:-1:2].reset_index()\n",
    "        full_trials['prior_timeout'] = boat_trials['timeout']\n",
    "        full_trials['prior_boat'] = boat_trials['boat']\n",
    "        full_trials['prior_reward'] = boat_trials['reward']\n",
    "        full_trials['trial_num'] = full_trials.index\n",
    "        \n",
    "        mean_RT = pd.concat([df['boat_rt'], df['island_rt']], ignore_index=True).mean()\n",
    "        low_quality = browser_interact > 20 or comp_errors > 3 or timeouts > 10 or mean_RT > 5000\n",
    "        data_quality_df.loc[int(metadata['subject_id'])] = [browser_interact,timeouts,mean_RT, comp_errors, df['categorical_age'].iloc[0], low_quality]\n",
    "        if not low_quality:\n",
    "            data_df.append(full_trials)\n",
    "        \n",
    "data_df = pd.concat(data_df, ignore_index=True)\n",
    "comprehension_df = pd.concat(comprehension_df, ignore_index=True)\n"
   ]
  },
  {
   "cell_type": "code",
   "execution_count": 3,
   "metadata": {},
   "outputs": [
    {
     "name": "stderr",
     "output_type": "stream",
     "text": [
      "/var/folders/x_/2rt9php14l77064t1fz9yq800000gp/T/ipykernel_4123/2557107641.py:14: FutureWarning: Not prepending group keys to the result index of transform-like apply. In the future, the group keys will be included in the index, regardless of whether the applied function returns a like-indexed object.\n",
      "To preserve the previous behavior, use\n",
      "\n",
      "\t>>> .groupby(..., group_keys=False)\n",
      "\n",
      "To adopt the future behavior and silence this warning, use \n",
      "\n",
      "\t>>> .groupby(..., group_keys=True)\n",
      "  data_df['block'] = data_df.groupby('sub')['reward_probabilities'].apply(lambda x: (x != x.shift()).cumsum())\n"
     ]
    }
   ],
   "source": [
    "data_df = data_df[(data_df['timeout']==False) & (data_df['prior_timeout']==False)]\n",
    "data_df['action1TowardsPrevEnd'] = (2*data_df['island'] <= data_df['prior_boat']) & (data_df['prior_boat'] <= (2*data_df['island']+1))\n",
    "data_df['action1TowardsPrevEnd'] = data_df['action1TowardsPrevEnd'].astype(int)\n",
    "\n",
    "def is_congruent(before, current):\n",
    "    if type(before) != type(current):\n",
    "        return None\n",
    "    if (before[0] < 0.5 and current[0] < 0.5) or (before[0] >= 0.5 and current[0] >= 0.5):\n",
    "        return 1\n",
    "    else:\n",
    "        return 0\n",
    "\n",
    "# create block and block_change_congruent columns \n",
    "data_df['block'] = data_df.groupby('sub')['reward_probabilities'].apply(lambda x: (x != x.shift()).cumsum())\n",
    "x = data_df.groupby(['sub','block']).first().reset_index()\n",
    "x['prior_reward_probabilities'] = x.groupby('sub')['reward_probabilities'].shift()\n",
    "x['block_change_congruent'] = x.apply(lambda row: is_congruent(row['prior_reward_probabilities'], row['reward_probabilities']), axis=1)\n",
    "data_df = data_df.merge(x[['sub', 'block', 'block_change_congruent']], on=['sub', 'block'], how='left')"
   ]
  },
  {
   "cell_type": "code",
   "execution_count": 4,
   "metadata": {},
   "outputs": [],
   "source": [
    "def get_prior_boat_choice(row,df=data_df):\n",
    "    # Filter the DataFrame to get rows with the same subject_id and accessible island\n",
    "    subset = df[(df['sub'] == row['sub']) & (df['island'] == row['prior_boat']//2)]\n",
    "    \n",
    "    # Get the prior row (excluding the current row)\n",
    "    prior_row = subset[subset['trial_num'] < row['trial_num']].tail(1)\n",
    "    \n",
    "    # If there is a prior row, return the prior boat choice, otherwise, return NaN\n",
    "    return prior_row['boat'].values[0]==row['prior_boat'] if not prior_row.empty else None\n",
    "\n",
    "def get_boat_neighbor_prior_reward(row, df=data_df):\n",
    "    # Filter the DataFrame to get rows with the same subject_id and accessible island\n",
    "    neighbor_boat_mapping = {1: 0, 0: 1, 3: 2, 2: 3}\n",
    "    neighbor_boat = neighbor_boat_mapping[row['prior_boat']]\n",
    "    subset = df[(df['sub'] == row['sub']) & ((df['boat'] == neighbor_boat) | (df['prior_boat'] == neighbor_boat))]\n",
    "    \n",
    "    # Get the prior row (excluding the current row)\n",
    "    prior_row = subset[subset['trial_num'] < row['trial_num']].tail(1)\n",
    "\n",
    "    rewarded = None\n",
    "    if not prior_row.empty:\n",
    "        if prior_row['prior_boat'].values[0] == neighbor_boat:\n",
    "            rewarded = prior_row['prior_reward'].values[0]\n",
    "        if prior_row['boat'].values[0] == neighbor_boat:\n",
    "            rewarded = prior_row['reward'].values[0]\n",
    "    return rewarded"
   ]
  },
  {
   "cell_type": "code",
   "execution_count": 5,
   "metadata": {},
   "outputs": [],
   "source": [
    "data_df['prior_boat_choice'] = data_df.apply(get_prior_boat_choice, axis=1)\n",
    "data_df['boat_neighbor_prior_reward'] = data_df.apply(get_boat_neighbor_prior_reward, axis=1)\n",
    "data_df = data_df[(data_df['prior_boat_choice'].notnull()) & (data_df['boat_neighbor_prior_reward'].notnull()) & (data_df['prior_reward'].notnull())].copy()\n",
    "data_df['prior_boat_choice'] = data_df['prior_boat_choice'].astype(int)\n",
    "data_df['repeat_island'] = (data_df['island'] == data_df['island'].shift(1)).astype(int)\n",
    "data_df['prior_island_reward'] = data_df['reward'].shift(1)\n",
    "data_df = data_df[(data_df['prior_island_reward'].notnull())].copy()"
   ]
  },
  {
   "cell_type": "code",
   "execution_count": 10,
   "metadata": {},
   "outputs": [],
   "source": [
    "data_df.to_csv('../data/sailing/preprocessed/sailing_data.csv')\n",
    "data_quality_df.to_csv('../data/sailing/preprocessed/sailing_data_quality.csv')"
   ]
  }
 ],
 "metadata": {
  "kernelspec": {
   "display_name": "reval",
   "language": "python",
   "name": "python3"
  },
  "language_info": {
   "codemirror_mode": {
    "name": "ipython",
    "version": 3
   },
   "file_extension": ".py",
   "mimetype": "text/x-python",
   "name": "python",
   "nbconvert_exporter": "python",
   "pygments_lexer": "ipython3",
   "version": "3.10.9"
  }
 },
 "nbformat": 4,
 "nbformat_minor": 2
}
